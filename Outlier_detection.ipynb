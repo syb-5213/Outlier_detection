{
 "cells": [
  {
   "cell_type": "markdown",
   "metadata": {},
   "source": [
    "## 代码仓库：https://github.com/syb-5213/Outlier_detection"
   ]
  },
  {
   "cell_type": "markdown",
   "metadata": {},
   "source": [
    "###  数据库选择：pageb_benchmarks、abalone_benchmarks"
   ]
  },
  {
   "cell_type": "markdown",
   "metadata": {},
   "source": [
    "首先导入相关库方便后续使用。"
   ]
  },
  {
   "cell_type": "code",
   "execution_count": 1,
   "metadata": {},
   "outputs": [],
   "source": [
    "import pandas as pd\n",
    "import numpy as np\n",
    "from tkinter import _flatten\n",
    "from sklearn.metrics import roc_auc_score\n",
    "from pyod.utils.utility import precision_n_scores\n",
    "from pyod.utils.data import evaluate_print\n",
    "from pyod.utils.example import visualize\n",
    "import os\n",
    "import warnings\n",
    "warnings.filterwarnings(\"ignore\")\n",
    "from pyod.models.pca import PCA\n",
    "from pyod.models.mcd import MCD\n",
    "from pyod.models.lof import LOF\n",
    "from pyod.models.knn import KNN\n",
    "from pyod.models.loda import LODA\n",
    "from sklearn import decomposition"
   ]
  },
  {
   "cell_type": "markdown",
   "metadata": {},
   "source": [
    "### 1.处理数据集pageb_benchmarks"
   ]
  },
  {
   "cell_type": "markdown",
   "metadata": {},
   "source": [
    "首先导入数据库内所有csv文件名并存入列表doc_list中。"
   ]
  },
  {
   "cell_type": "code",
   "execution_count": 2,
   "metadata": {},
   "outputs": [],
   "source": [
    "#处理数据集pageb\n",
    "doc_list=[]\n",
    "for root,dirs,files in os.walk(r\"D:\\研一下学期\\数据挖掘\\作业4\\pageb\\benchmarks\"):\n",
    "    for file in files:\n",
    "        doc_list.append(os.path.join(root,file))"
   ]
  },
  {
   "cell_type": "markdown",
   "metadata": {},
   "source": [
    "进一步预处理数据文件，将每个数据文件的ground_truth属性设置为标签并将其中的nominal即正常数据转化为数字0，异常的离群点数据anomaly转化为数字1，去除掉其中的无用的字符串属性motherset以及origin并保存在列表drop中。"
   ]
  },
  {
   "cell_type": "code",
   "execution_count": 3,
   "metadata": {},
   "outputs": [],
   "source": [
    "transfor={'nominal':0,'anomaly':1} \n",
    "drop=['motherset','origin']\n",
    "ground_truth=['ground.truth']"
   ]
  },
  {
   "cell_type": "markdown",
   "metadata": {},
   "source": [
    "函数train用于对每个csv数据文件采用pyod中的无监督方法筛选并标记出异常的离群点，函数输入有三个分别为文件名列表用于访问并处理每个文件，数据库名称以及方法名称用于标示使用哪种无监督的方法处理数据集。采用方法分别为基于线性模型的PCA以及MCD，基于邻接性的LOF及KNN，还有基于离群点集成的LODA算法，用以上算法逐一对每个数据文件进行处理并对计算结果用roc-auc以及prc指标进行评价。由于文件过多每200个文件输出一次结果用于观测处理进度，最终计算每种方法在所有文件上的平均roc-auc以及平均prc进行输出。"
   ]
  },
  {
   "cell_type": "code",
   "execution_count": 4,
   "metadata": {},
   "outputs": [],
   "source": [
    "def train(doc_list,dataset_name,clf_name):\n",
    "    model_roc=[]\n",
    "    model_prc=[]\n",
    "    if clf_name==\"PCA\":\n",
    "        clf = PCA()\n",
    "    elif clf_name==\"MCD\":\n",
    "        clf = MCD()\n",
    "    elif clf_name==\"LOF\":\n",
    "        clf = LOF()\n",
    "    elif clf_name==\"KNN\":\n",
    "        clf = KNN()\n",
    "    elif clf_name==\"LODA\":\n",
    "        clf = LODA()\n",
    "    for i in range(len(doc_list)): \n",
    "        data = pd.read_csv(doc_list[i], header=0, index_col=0)\n",
    "        train_x = data.drop(drop+ground_truth, axis=1).values\n",
    "        train_y=np.array([transfor[x] for x in list(_flatten(data[ground_truth].values.tolist()))])\n",
    "        clf.fit(train_x)\n",
    "        predict=clf.decision_scores_\n",
    "        roc=roc_auc_score(train_y, predict)\n",
    "        prc=precision_n_scores(train_y, predict)\n",
    "        if((i+1)%200==0):\n",
    "            print(\"第\"+str(i+1)+\"个文件结果:\")\n",
    "            evaluate_print(clf_name, train_y, predict)\n",
    "        model_roc.append(roc)\n",
    "        model_prc.append(prc)\n",
    "    model_roc_avg = np.mean(model_roc)\n",
    "    model_prc_avg = np.mean(model_prc)\n",
    "    print(\"模型\"+clf_name+\"在数据集\"+dataset_name+\"的平均roc_auc为\"+str(round(model_roc_avg,4))+\",平均prc为\"+str(round(model_prc_avg,4))+\"。\")   \n",
    "    return model_roc_avg,model_prc_avg"
   ]
  },
  {
   "cell_type": "markdown",
   "metadata": {},
   "source": [
    "对数据集pageb分别采用PCA、MCD、LOF、KNN以及LODA方法进行离群点挖掘，可以看到每种方法每200次输出一次结果以及最终的平均roc-auc、prc结果。"
   ]
  },
  {
   "cell_type": "code",
   "execution_count": 5,
   "metadata": {},
   "outputs": [
    {
     "name": "stdout",
     "output_type": "stream",
     "text": [
      "第200个文件结果:\n",
      "PCA ROC:0.7136, precision @ rank n:0.5161\n",
      "第400个文件结果:\n",
      "PCA ROC:0.9945, precision @ rank n:0.2\n",
      "第600个文件结果:\n",
      "PCA ROC:0.9167, precision @ rank n:0.1667\n",
      "第800个文件结果:\n",
      "PCA ROC:0.8984, precision @ rank n:0.5549\n",
      "模型PCA在数据集pageb的平均roc_auc为0.9054,平均prc为0.448。\n"
     ]
    }
   ],
   "source": [
    "model1_roc_avg,model1_prc_avg=train(doc_list,\"pageb\",\"PCA\")"
   ]
  },
  {
   "cell_type": "code",
   "execution_count": 6,
   "metadata": {},
   "outputs": [
    {
     "name": "stdout",
     "output_type": "stream",
     "text": [
      "第200个文件结果:\n",
      "MCD ROC:0.7437, precision @ rank n:0.5591\n",
      "第400个文件结果:\n",
      "MCD ROC:0.9623, precision @ rank n:0.0\n",
      "第600个文件结果:\n",
      "MCD ROC:0.8097, precision @ rank n:0.1111\n",
      "第800个文件结果:\n",
      "MCD ROC:0.9813, precision @ rank n:0.7561\n",
      "模型MCD在数据集pageb的平均roc_auc为0.8878,平均prc为0.4011。\n"
     ]
    }
   ],
   "source": [
    "model2_roc_avg,model2_prc_avg=train(doc_list,\"pageb\",\"MCD\")"
   ]
  },
  {
   "cell_type": "code",
   "execution_count": 7,
   "metadata": {},
   "outputs": [
    {
     "name": "stdout",
     "output_type": "stream",
     "text": [
      "第200个文件结果:\n",
      "LOF ROC:0.7025, precision @ rank n:0.4731\n",
      "第400个文件结果:\n",
      "LOF ROC:0.9702, precision @ rank n:0.0\n",
      "第600个文件结果:\n",
      "LOF ROC:0.7786, precision @ rank n:0.0556\n",
      "第800个文件结果:\n",
      "LOF ROC:0.6354, precision @ rank n:0.2703\n",
      "模型LOF在数据集pageb的平均roc_auc为0.7757,平均prc为0.3095。\n"
     ]
    }
   ],
   "source": [
    "model3_roc_avg,model3_prc_avg=train(doc_list,\"pageb\",\"LOF\")"
   ]
  },
  {
   "cell_type": "code",
   "execution_count": 8,
   "metadata": {},
   "outputs": [
    {
     "name": "stdout",
     "output_type": "stream",
     "text": [
      "第200个文件结果:\n",
      "KNN ROC:0.7326, precision @ rank n:0.5376\n",
      "第400个文件结果:\n",
      "KNN ROC:0.9466, precision @ rank n:0.0\n",
      "第600个文件结果:\n",
      "KNN ROC:0.7261, precision @ rank n:0.0556\n",
      "第800个文件结果:\n",
      "KNN ROC:0.8426, precision @ rank n:0.376\n",
      "模型KNN在数据集pageb的平均roc_auc为0.8549,平均prc为0.3264。\n"
     ]
    }
   ],
   "source": [
    "model4_roc_avg,model4_prc_avg=train(doc_list,\"pageb\",\"KNN\")"
   ]
  },
  {
   "cell_type": "code",
   "execution_count": 9,
   "metadata": {},
   "outputs": [
    {
     "name": "stdout",
     "output_type": "stream",
     "text": [
      "第200个文件结果:\n",
      "LODA ROC:0.7145, precision @ rank n:0.5376\n",
      "第400个文件结果:\n",
      "LODA ROC:0.5429, precision @ rank n:0.0\n",
      "第600个文件结果:\n",
      "LODA ROC:0.8116, precision @ rank n:0.0556\n",
      "第800个文件结果:\n",
      "LODA ROC:0.88, precision @ rank n:0.5285\n",
      "模型LODA在数据集pageb的平均roc_auc为0.7462,平均prc为0.2703。\n"
     ]
    }
   ],
   "source": [
    "model5_roc_avg,model5_prc_avg=train(doc_list,\"pageb\",\"LODA\")"
   ]
  },
  {
   "cell_type": "markdown",
   "metadata": {},
   "source": [
    "由结果可以看出在pageb数据集上采用线性模型PCA方法进行离群点挖掘的效果最好，平均roc-auc可以达到0.9，平均prc可以达到0.448。而集成方法LODA的效果最差，平均roc-auc只有0.74，平均prc只有0.27。"
   ]
  },
  {
   "cell_type": "markdown",
   "metadata": {},
   "source": [
    "将处理结果保存在dataset1_result_roc及dataset1_result_prc中。"
   ]
  },
  {
   "cell_type": "code",
   "execution_count": 10,
   "metadata": {},
   "outputs": [],
   "source": [
    "dataset1_result_roc=[model1_roc_avg,model2_roc_avg,model3_roc_avg,model4_roc_avg,model5_roc_avg]\n",
    "dataset1_result_prc=[model1_prc_avg,model2_prc_avg,model3_prc_avg,model4_prc_avg,model5_prc_avg]"
   ]
  },
  {
   "cell_type": "markdown",
   "metadata": {},
   "source": [
    "### 2.处理数据集abalone_benchmarks"
   ]
  },
  {
   "cell_type": "markdown",
   "metadata": {},
   "source": [
    "首先导入数据库内所有csv文件名并存入列表doc_list中。"
   ]
  },
  {
   "cell_type": "code",
   "execution_count": 11,
   "metadata": {},
   "outputs": [],
   "source": [
    "#处理数据集abalone\n",
    "doc_list=[]\n",
    "for root,dirs,files in os.walk(r\"D:\\研一下学期\\数据挖掘\\作业4\\abalone\\benchmarks\"):\n",
    "    for file in files:\n",
    "        doc_list.append(os.path.join(root,file))"
   ]
  },
  {
   "cell_type": "markdown",
   "metadata": {},
   "source": [
    "与上述处理过程类似对数据集进行预处理。"
   ]
  },
  {
   "cell_type": "code",
   "execution_count": 12,
   "metadata": {},
   "outputs": [],
   "source": [
    "transfor={'nominal':0,'anomaly':1} \n",
    "drop=['motherset','origin']\n",
    "ground_truth=['ground.truth']"
   ]
  },
  {
   "cell_type": "markdown",
   "metadata": {},
   "source": [
    "对数据集abalone分别采用PCA、MCD、LOF、KNN以及LODA方法进行离群点挖掘，可以看到每种方法每200次输出一次结果以及最终的平均roc-auc、prc结果。"
   ]
  },
  {
   "cell_type": "code",
   "execution_count": 13,
   "metadata": {},
   "outputs": [
    {
     "name": "stdout",
     "output_type": "stream",
     "text": [
      "第200个文件结果:\n",
      "PCA ROC:0.4724, precision @ rank n:0.4985\n",
      "第400个文件结果:\n",
      "PCA ROC:0.8415, precision @ rank n:0.0\n",
      "第600个文件结果:\n",
      "PCA ROC:0.9998, precision @ rank n:0.8\n",
      "第800个文件结果:\n",
      "PCA ROC:0.8012, precision @ rank n:0.0\n",
      "第1000个文件结果:\n",
      "PCA ROC:0.8776, precision @ rank n:0.3\n",
      "第1200个文件结果:\n",
      "PCA ROC:0.9691, precision @ rank n:0.7872\n",
      "第1400个文件结果:\n",
      "PCA ROC:0.6678, precision @ rank n:0.1148\n",
      "第1600个文件结果:\n",
      "PCA ROC:0.7262, precision @ rank n:0.3667\n",
      "模型PCA在数据集abalone的平均roc_auc为0.7632,平均prc为0.319。\n"
     ]
    }
   ],
   "source": [
    "model1_roc_avg,model1_prc_avg=train(doc_list,\"abalone\",\"PCA\")"
   ]
  },
  {
   "cell_type": "code",
   "execution_count": 14,
   "metadata": {},
   "outputs": [
    {
     "name": "stdout",
     "output_type": "stream",
     "text": [
      "第200个文件结果:\n",
      "MCD ROC:0.7396, precision @ rank n:0.6847\n",
      "第400个文件结果:\n",
      "MCD ROC:0.8515, precision @ rank n:0.0\n",
      "第600个文件结果:\n",
      "MCD ROC:1.0, precision @ rank n:1.0\n",
      "第800个文件结果:\n",
      "MCD ROC:0.769, precision @ rank n:0.0\n",
      "第1000个文件结果:\n",
      "MCD ROC:0.9085, precision @ rank n:0.25\n",
      "第1200个文件结果:\n",
      "MCD ROC:0.997, precision @ rank n:0.8723\n",
      "第1400个文件结果:\n",
      "MCD ROC:0.7343, precision @ rank n:0.1803\n",
      "第1600个文件结果:\n",
      "MCD ROC:0.908, precision @ rank n:0.581\n",
      "模型MCD在数据集abalone的平均roc_auc为0.8654,平均prc为0.3784。\n"
     ]
    }
   ],
   "source": [
    "model2_roc_avg,model2_prc_avg=train(doc_list,\"abalone\",\"MCD\")"
   ]
  },
  {
   "cell_type": "code",
   "execution_count": 15,
   "metadata": {},
   "outputs": [
    {
     "name": "stdout",
     "output_type": "stream",
     "text": [
      "第200个文件结果:\n",
      "LOF ROC:0.4485, precision @ rank n:0.4719\n",
      "第400个文件结果:\n",
      "LOF ROC:0.9952, precision @ rank n:0.0\n",
      "第600个文件结果:\n",
      "LOF ROC:1.0, precision @ rank n:1.0\n",
      "第800个文件结果:\n",
      "LOF ROC:0.9735, precision @ rank n:0.1667\n",
      "第1000个文件结果:\n",
      "LOF ROC:0.9662, precision @ rank n:0.55\n",
      "第1200个文件结果:\n",
      "LOF ROC:0.7342, precision @ rank n:0.2128\n",
      "第1400个文件结果:\n",
      "LOF ROC:0.8301, precision @ rank n:0.2459\n",
      "第1600个文件结果:\n",
      "LOF ROC:0.7357, precision @ rank n:0.1905\n",
      "模型LOF在数据集abalone的平均roc_auc为0.8044,平均prc为0.3587。\n"
     ]
    }
   ],
   "source": [
    "model3_roc_avg,model3_prc_avg=train(doc_list,\"abalone\",\"LOF\")"
   ]
  },
  {
   "cell_type": "code",
   "execution_count": 16,
   "metadata": {},
   "outputs": [
    {
     "name": "stdout",
     "output_type": "stream",
     "text": [
      "第200个文件结果:\n",
      "KNN ROC:0.7765, precision @ rank n:0.7162\n",
      "第400个文件结果:\n",
      "KNN ROC:0.991, precision @ rank n:0.0\n",
      "第600个文件结果:\n",
      "KNN ROC:1.0, precision @ rank n:1.0\n",
      "第800个文件结果:\n",
      "KNN ROC:0.9532, precision @ rank n:0.0\n",
      "第1000个文件结果:\n",
      "KNN ROC:0.9614, precision @ rank n:0.5\n",
      "第1200个文件结果:\n",
      "KNN ROC:0.9692, precision @ rank n:0.617\n",
      "第1400个文件结果:\n",
      "KNN ROC:0.8385, precision @ rank n:0.3115\n",
      "第1600个文件结果:\n",
      "KNN ROC:0.869, precision @ rank n:0.4905\n",
      "模型KNN在数据集abalone的平均roc_auc为0.8776,平均prc为0.4765。\n"
     ]
    }
   ],
   "source": [
    "model4_roc_avg,model4_prc_avg=train(doc_list,\"abalone\",\"KNN\")"
   ]
  },
  {
   "cell_type": "code",
   "execution_count": 17,
   "metadata": {},
   "outputs": [
    {
     "name": "stdout",
     "output_type": "stream",
     "text": [
      "第200个文件结果:\n",
      "LODA ROC:0.5222, precision @ rank n:0.5455\n",
      "第400个文件结果:\n",
      "LODA ROC:0.9133, precision @ rank n:0.0\n",
      "第600个文件结果:\n",
      "LODA ROC:1.0, precision @ rank n:1.0\n",
      "第800个文件结果:\n",
      "LODA ROC:0.42, precision @ rank n:0.0\n",
      "第1000个文件结果:\n",
      "LODA ROC:0.9079, precision @ rank n:0.25\n",
      "第1200个文件结果:\n",
      "LODA ROC:0.9409, precision @ rank n:0.4894\n",
      "第1400个文件结果:\n",
      "LODA ROC:0.6923, precision @ rank n:0.1639\n",
      "第1600个文件结果:\n",
      "LODA ROC:0.7425, precision @ rank n:0.381\n",
      "模型LODA在数据集abalone的平均roc_auc为0.7823,平均prc为0.3416。\n"
     ]
    }
   ],
   "source": [
    "model5_roc_avg,model5_prc_avg=train(doc_list,\"abalone\",\"LODA\")"
   ]
  },
  {
   "cell_type": "markdown",
   "metadata": {},
   "source": [
    "由结果可以看出在abalone数据集上采用线性模型MCD方法进行离群点挖掘的效果最好，平均roc-auc可以达到0.86，平均prc可以达到0.37。而线性模型PCA与集成方法LODA的效果相对来说较差，平均roc-auc只有0.76-0.78，平均prc只有0.31-0.34。"
   ]
  },
  {
   "cell_type": "markdown",
   "metadata": {},
   "source": [
    "将处理结果保存在dataset2_result_roc及dataset2_result_prc中。"
   ]
  },
  {
   "cell_type": "code",
   "execution_count": 19,
   "metadata": {},
   "outputs": [],
   "source": [
    "dataset2_result_roc=[model1_roc_avg,model2_roc_avg,model3_roc_avg,model4_roc_avg,model5_roc_avg]\n",
    "dataset2_result_prc=[model1_prc_avg,model2_prc_avg,model3_prc_avg,model4_prc_avg,model5_prc_avg]"
   ]
  },
  {
   "cell_type": "markdown",
   "metadata": {},
   "source": [
    "### 3.算法结果对比及可视化 "
   ]
  },
  {
   "cell_type": "markdown",
   "metadata": {},
   "source": [
    "将上述5种算法在两数据集的结果进行对比分析。"
   ]
  },
  {
   "cell_type": "markdown",
   "metadata": {},
   "source": [
    "统计出各算法在两数据集的roc-auc指标，如下表所示。"
   ]
  },
  {
   "cell_type": "code",
   "execution_count": 20,
   "metadata": {},
   "outputs": [
    {
     "data": {
      "text/html": [
       "<div>\n",
       "<style scoped>\n",
       "    .dataframe tbody tr th:only-of-type {\n",
       "        vertical-align: middle;\n",
       "    }\n",
       "\n",
       "    .dataframe tbody tr th {\n",
       "        vertical-align: top;\n",
       "    }\n",
       "\n",
       "    .dataframe thead th {\n",
       "        text-align: right;\n",
       "    }\n",
       "</style>\n",
       "<table border=\"1\" class=\"dataframe\">\n",
       "  <thead>\n",
       "    <tr style=\"text-align: right;\">\n",
       "      <th></th>\n",
       "      <th>Dataset</th>\n",
       "      <th>Dimensions</th>\n",
       "      <th>PCA</th>\n",
       "      <th>MCD</th>\n",
       "      <th>LOF</th>\n",
       "      <th>KNN</th>\n",
       "      <th>LODA</th>\n",
       "    </tr>\n",
       "  </thead>\n",
       "  <tbody>\n",
       "    <tr>\n",
       "      <th>0</th>\n",
       "      <td>pageb</td>\n",
       "      <td>12</td>\n",
       "      <td>0.905443</td>\n",
       "      <td>0.887831</td>\n",
       "      <td>0.775728</td>\n",
       "      <td>0.854862</td>\n",
       "      <td>0.746196</td>\n",
       "    </tr>\n",
       "    <tr>\n",
       "      <th>1</th>\n",
       "      <td>abalone</td>\n",
       "      <td>9</td>\n",
       "      <td>0.763167</td>\n",
       "      <td>0.865435</td>\n",
       "      <td>0.804373</td>\n",
       "      <td>0.877615</td>\n",
       "      <td>0.782253</td>\n",
       "    </tr>\n",
       "  </tbody>\n",
       "</table>\n",
       "</div>"
      ],
      "text/plain": [
       "   Dataset  Dimensions       PCA       MCD       LOF       KNN      LODA\n",
       "0    pageb          12  0.905443  0.887831  0.775728  0.854862  0.746196\n",
       "1  abalone           9  0.763167  0.865435  0.804373  0.877615  0.782253"
      ]
     },
     "execution_count": 20,
     "metadata": {},
     "output_type": "execute_result"
    }
   ],
   "source": [
    "#统计每种方法的结果\n",
    "result_roc=pd.DataFrame([[\"pageb\",12,dataset1_result_roc[0],dataset1_result_roc[1],dataset1_result_roc[2],dataset1_result_roc[3],dataset1_result_roc[4]],[\"abalone\",9,dataset2_result_roc[0],dataset2_result_roc[1],dataset2_result_roc[2],dataset2_result_roc[3],dataset2_result_roc[4]]],columns=[\"Dataset\",\"Dimensions\",\"PCA\",\"MCD\",\"LOF\",\"KNN\",\"LODA\"])\n",
    "result_roc"
   ]
  },
  {
   "cell_type": "markdown",
   "metadata": {},
   "source": [
    "统计出每种算法在两数据集的prc指标，如下表所示。"
   ]
  },
  {
   "cell_type": "code",
   "execution_count": 21,
   "metadata": {},
   "outputs": [
    {
     "data": {
      "text/html": [
       "<div>\n",
       "<style scoped>\n",
       "    .dataframe tbody tr th:only-of-type {\n",
       "        vertical-align: middle;\n",
       "    }\n",
       "\n",
       "    .dataframe tbody tr th {\n",
       "        vertical-align: top;\n",
       "    }\n",
       "\n",
       "    .dataframe thead th {\n",
       "        text-align: right;\n",
       "    }\n",
       "</style>\n",
       "<table border=\"1\" class=\"dataframe\">\n",
       "  <thead>\n",
       "    <tr style=\"text-align: right;\">\n",
       "      <th></th>\n",
       "      <th>Dataset</th>\n",
       "      <th>Dimensions</th>\n",
       "      <th>PCA</th>\n",
       "      <th>MCD</th>\n",
       "      <th>LOF</th>\n",
       "      <th>KNN</th>\n",
       "      <th>LODA</th>\n",
       "    </tr>\n",
       "  </thead>\n",
       "  <tbody>\n",
       "    <tr>\n",
       "      <th>0</th>\n",
       "      <td>pageb</td>\n",
       "      <td>12</td>\n",
       "      <td>0.447980</td>\n",
       "      <td>0.401107</td>\n",
       "      <td>0.309507</td>\n",
       "      <td>0.326408</td>\n",
       "      <td>0.270253</td>\n",
       "    </tr>\n",
       "    <tr>\n",
       "      <th>1</th>\n",
       "      <td>abalone</td>\n",
       "      <td>9</td>\n",
       "      <td>0.318992</td>\n",
       "      <td>0.378371</td>\n",
       "      <td>0.358660</td>\n",
       "      <td>0.476479</td>\n",
       "      <td>0.341551</td>\n",
       "    </tr>\n",
       "  </tbody>\n",
       "</table>\n",
       "</div>"
      ],
      "text/plain": [
       "   Dataset  Dimensions       PCA       MCD       LOF       KNN      LODA\n",
       "0    pageb          12  0.447980  0.401107  0.309507  0.326408  0.270253\n",
       "1  abalone           9  0.318992  0.378371  0.358660  0.476479  0.341551"
      ]
     },
     "execution_count": 21,
     "metadata": {},
     "output_type": "execute_result"
    }
   ],
   "source": [
    "result_prc=pd.DataFrame([[\"pageb\",12,dataset1_result_prc[0],dataset1_result_prc[1],dataset1_result_prc[2],dataset1_result_prc[3],dataset1_result_prc[4]],[\"abalone\",9,dataset2_result_prc[0],dataset2_result_prc[1],dataset2_result_prc[2],dataset2_result_prc[3],dataset2_result_prc[4]]],columns=[\"Dataset\",\"Dimensions\",\"PCA\",\"MCD\",\"LOF\",\"KNN\",\"LODA\"])\n",
    "result_prc"
   ]
  },
  {
   "cell_type": "markdown",
   "metadata": {},
   "source": [
    "由上述结果对比可以看出在两种不同的数据集中，线性模型整体结果要优于基于邻接性以及基于集成的算法，并且线性模型的处理速度相较于其他算法较快、处理效率较高，所以利用线性模型对数据进行初步的离群异常点分析是一个不错的选择。"
   ]
  },
  {
   "cell_type": "markdown",
   "metadata": {},
   "source": [
    "利用PCA算法在pageb数据集的全集csv文件pageb.preproc上进行集体离群点的挖掘，最后将挖掘结果进行可视化，如下图所示。"
   ]
  },
  {
   "cell_type": "code",
   "execution_count": 22,
   "metadata": {},
   "outputs": [
    {
     "name": "stdout",
     "output_type": "stream",
     "text": [
      "PCA ROC:0.9032, precision @ rank n:0.4964\n"
     ]
    },
    {
     "data": {
      "image/png": "[encoded data removed]",
      "text/plain": [
       "<Figure size 864x360 with 2 Axes>"
      ]
     },
     "metadata": {},
     "output_type": "display_data"
    }
   ],
   "source": [
    "clf = PCA()\n",
    "clf_name=\"PCA\"\n",
    "read=r\"D:\\研一下学期\\数据挖掘\\作业4\\pageb\\meta_data\\pageb.preproc.csv\"\n",
    "data = pd.read_csv(read, header=0, index_col=0)\n",
    "train_x = data.drop(drop+ground_truth+[\"original.label\"], axis=1).values\n",
    "train_y=np.array([transfor[x] for x in list(_flatten(data[ground_truth].values.tolist()))])\n",
    "clf.fit(train_x)\n",
    "label=clf.labels_\n",
    "predict=clf.decision_scores_\n",
    "evaluate_print(clf_name, train_y, predict)\n",
    "pca = decomposition.PCA(n_components=2)\n",
    "X = pca.fit_transform(train_x)\n",
    "visualize(clf_name, X, train_y, X, train_y, label,\n",
    "          train_y, show_figure=True, save_figure=True)"
   ]
  },
  {
   "cell_type": "markdown",
   "metadata": {},
   "source": [
    "利用MCD算法在abalone数据集的全集csv文件abalone.preproc上进行集体离群点的挖掘，最后将挖掘结果进行可视化，如下图所示。"
   ]
  },
  {
   "cell_type": "code",
   "execution_count": 23,
   "metadata": {},
   "outputs": [
    {
     "name": "stdout",
     "output_type": "stream",
     "text": [
      "PCA ROC:0.7506, precision @ rank n:0.6901\n"
     ]
    },
    {
     "data": {
      "image/png": "[encoded data removed]",
      "text/plain": [
       "<Figure size 864x360 with 2 Axes>"
      ]
     },
     "metadata": {},
     "output_type": "display_data"
    }
   ],
   "source": [
    "clf = MCD()\n",
    "clf_name=\"PCA\"\n",
    "read=r\"D:\\研一下学期\\数据挖掘\\作业4\\abalone\\meta_data\\abalone.preproc.csv\"\n",
    "data = pd.read_csv(read, header=0, index_col=0)\n",
    "train_x = data.drop(drop+ground_truth+[\"original.label\"], axis=1).values\n",
    "train_y=np.array([transfor[x] for x in list(_flatten(data[ground_truth].values.tolist()))])\n",
    "clf.fit(train_x)\n",
    "label=clf.labels_\n",
    "predict=clf.decision_scores_\n",
    "evaluate_print(clf_name, train_y, predict)\n",
    "pca = decomposition.PCA(n_components=2)\n",
    "X = pca.fit_transform(train_x)\n",
    "visualize(clf_name, X, train_y, X, train_y, label,\n",
    "          train_y, show_figure=True, save_figure=True)"
   ]
  },
  {
   "cell_type": "markdown",
   "metadata": {},
   "source": [
    "由可视化结果可以看出，经过无监督算法PCA以及MCD处理后得到的离群点与数据集标记出来的离群点大致趋势一致，但是经过算法得到的离群点数量要远远高于数据集中标记出的离群点。"
   ]
  }
 ],
 "metadata": {
  "kernelspec": {
   "display_name": "Python 3",
   "language": "python",
   "name": "python3"
  },
  "language_info": {
   "codemirror_mode": {
    "name": "ipython",
    "version": 3
   },
   "file_extension": ".py",
   "mimetype": "text/x-python",
   "name": "python",
   "nbconvert_exporter": "python",
   "pygments_lexer": "ipython3",
   "version": "3.7.3"
  }
 },
 "nbformat": 4,
 "nbformat_minor": 2
}
